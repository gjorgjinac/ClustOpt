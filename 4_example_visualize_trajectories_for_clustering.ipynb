{
 "cells": [
  {
   "cell_type": "code",
   "execution_count": null,
   "id": "408fbd5b-9c36-4f6c-b9bf-69b566aeeb70",
   "metadata": {},
   "outputs": [],
   "source": [
    "import numpy as np\n",
    "\n",
    "from pymoo.problems import get_problem\n",
    "from pymoo.visualization.fitness_landscape import FitnessLandscape\n",
    "import pandas as pd\n",
    "import seaborn as sns"
   ]
  },
  {
   "cell_type": "code",
   "execution_count": null,
   "id": "0d69b412-bf08-471c-87e3-f9ba63cd82c8",
   "metadata": {},
   "outputs": [],
   "source": [
    "from pymoo.core.problem import Problem\n",
    "def get_bbob(name, n_var=10, **kwargs):\n",
    "    try:\n",
    "        import cocoex as ex\n",
    "    except:\n",
    "        raise Exception(\"COCO test suite not found. \\nInstallation Guide: https://github.com/numbbo/coco\")\n",
    "\n",
    "    args = name.split(\"-\")\n",
    "    suite = args[0]\n",
    "    n_instance = int(args[2])\n",
    "    n_function = int(args[1].replace(\"f\", \"\"))\n",
    "\n",
    "    assert 1 <= n_function <= 24, f\"BBOB has 24 different functions to be chosen. {n_function} is out of range.\"\n",
    "\n",
    "    suite_filter_options = f\"function_indices: {n_function} \" \\\n",
    "                           f\"instance_indices: {n_instance} \" \\\n",
    "                           f\"dimensions: {n_var}\"\n",
    "\n",
    "    problems = ex.Suite(suite, \"instances: 1-999\", suite_filter_options)\n",
    "    assert len(problems) == 1, \"COCO problem not found.\"\n",
    "\n",
    "    coco = problems.next_problem()\n",
    "\n",
    "    return n_function, n_instance, coco\n",
    "class BBOBProblem(Problem):\n",
    "\n",
    "    def __init__(self, name, n_var, pf_from_file=True, **kwargs):\n",
    "        self.function, self.instance, self.object = get_bbob(name, n_var)\n",
    "        self.name = name\n",
    "        self.pf_from_file = pf_from_file\n",
    "\n",
    "        coco = self.object\n",
    "        n_var, n_obj, n_ieq_constr = coco.number_of_variables, coco.number_of_objectives, coco.number_of_constraints\n",
    "        xl, xu = coco.lower_bounds, coco.upper_bounds\n",
    "\n",
    "        super().__init__(n_var=n_var,\n",
    "                         n_obj=n_obj,\n",
    "                         n_ieq_constr=n_ieq_constr,\n",
    "                         xl=xl,\n",
    "                         xu=xu,\n",
    "                         **kwargs)\n",
    "\n",
    "    def _calc_pareto_set(self, *args, **kwargs):\n",
    "        if self.n_obj == 1:\n",
    "            fname = '._bbob_problem_best_parameter.txt'\n",
    "\n",
    "            self.object._best_parameter(what=\"print\")\n",
    "            ps = np.loadtxt(fname)\n",
    "            os.remove(fname)\n",
    "\n",
    "            return ps\n",
    "\n",
    "    def _calc_pareto_front(self, *args, **kwargs):\n",
    "        if self.pf_from_file:\n",
    "            return Remote.get_instance().load(\"pymoo\", \"pf\", \"bbob.pf\", to=\"json\")[str(self.function)][str(self.instance)]\n",
    "        else:\n",
    "            ps = self.pareto_set()\n",
    "            if ps is not None:\n",
    "                return self.evaluate(ps)\n",
    "\n",
    "    def _evaluate(self, X, out, *args, **kwargs):\n",
    "        out[\"F\"] = np.array([self.object(x) for x in X])\n",
    "        return out\n",
    "    \n",
    "    def evaluate_basic(self, x, *args, **kwargs):\n",
    "        return self.object(x)\n",
    "\n",
    "    def __getstate__(self):\n",
    "        d = self.__dict__.copy()\n",
    "        d[\"object\"] = None\n",
    "        return d\n",
    "\n",
    "    def __setstate__(self, d):\n",
    "        self.__dict__.update(d)\n",
    "        self.object = get_bbob(self.name, self.n_var)\n",
    "        "
   ]
  },
  {
   "cell_type": "code",
   "execution_count": null,
   "id": "0a714309-2d2c-4740-83d4-ad1ea80e0934",
   "metadata": {},
   "outputs": [],
   "source": [
    "problem_id=2\n",
    "instance_id=1\n",
    "dim=2\n",
    "p=BBOBProblem(f'bbob-{problem_id}-{instance_id}',dim)"
   ]
  },
  {
   "cell_type": "code",
   "execution_count": null,
   "id": "48682700-e83b-49cc-a004-9a6cba5353cf",
   "metadata": {},
   "outputs": [],
   "source": [
    "from ioh import get_problem, ProblemClass\n",
    "f = get_problem(problem_id, instance_id, dim, ProblemClass.BBOB)\n",
    "d=pd.read_csv(f'../data/processed/dim_{dim}/F{problem_id}_I{instance_id}_{dim}D.csv',compression='zip',index_col=0)\n",
    "d['raw_y']=d['raw_y']+f.optimum.y"
   ]
  },
  {
   "cell_type": "code",
   "execution_count": null,
   "id": "d866b5b9-5ba6-4e83-be63-b82ad2d1af12",
   "metadata": {},
   "outputs": [],
   "source": [
    "import matplotlib.pyplot as plt\n",
    "from matplotlib.colors import ListedColormap\n",
    "\n",
    "\n",
    "problem=p\n",
    "#scatter_df=d.query('algorithm in [\"AugmentedAEO\",\"OriginalAEO\",\"SHADE\"] and run==0')\n",
    "#scatter_df=d.query('algorithm in [\"OriginalSBO\",\t\"OriginalBFO\",\t\"OriginalFPA\", \"OriginalNMRA\" ] and run==0')\n",
    "scatter_df=d.query('algorithm in [\"BaseDE\",\t\"SADE\",\t\"BaseGA\" ] and run==0')\n",
    "#scatter_df=d.query('algorithm in [\"AugmentedAEO\", \"BaseDE\"]')\n",
    "color_column='algorithm'\n",
    "n_samples=100\n",
    "A = np.linspace(problem.xl[0], problem.xu[0], n_samples)\n",
    "B = np.linspace(problem.xl[1], problem.xu[1], n_samples)\n",
    "X = all_combinations(A, B)\n",
    "\n",
    "F = np.reshape(problem.evaluate(X, return_values_of=[\"F\"]), (n_samples, n_samples))\n",
    "\n",
    "_X = X[:, 0].reshape((n_samples, n_samples))\n",
    "_Y = X[:, 1].reshape((n_samples, n_samples))\n",
    "_Z = F.reshape((n_samples, n_samples))\n",
    "\n",
    "fig, ax = plt.subplots(subplot_kw={\"projection\": \"3d\"})\n",
    "surf = ax.plot_surface(_X, _Y, _Z, cmap=\"summer\", alpha=1)\n",
    "plt.tight_layout()\n",
    "plt.savefig(f'figures_clustering_new/surface_bbob-{problem_id}-{instance_id}.pdf',bbox_inches='tight',pad_inches=0)\n",
    "fig.colorbar(surf)\n",
    "plt.show()\n",
    "colors = ['black','blue',\"red\",'yellow']\n",
    "\n",
    "\n",
    "\n",
    "# get colormap from seaborn\n",
    "cmap = ListedColormap(sns.color_palette(\"mako\", 256).as_hex())\n",
    "for id, c_v in enumerate(scatter_df[color_column].unique()):\n",
    "    for run in scatter_df['run'].unique():\n",
    "        fig, ax = plt.subplots(subplot_kw={\"projection\": \"3d\"})\n",
    "        to_plot=scatter_df[scatter_df[color_column]==c_v]\n",
    "        to_plot=to_plot.query('run==@run')\n",
    "        sc=ax.scatter(to_plot['x0'], to_plot['x1'], to_plot['iteration'],c=to_plot['raw_y'], zorder=500, alpha=0.7, cmap=cmap)\n",
    "        ax.set_xlabel('x0')\n",
    "        ax.set_ylabel('x1')\n",
    "        ax.set_zlabel('iteration')\n",
    "        plt.legend(*sc.legend_elements(), bbox_to_anchor=(1.05, 1), loc=2)\n",
    "        plt.tight_layout()\n",
    "        plt.savefig(f'figures_clustering_new/scatterplot_bbob-{problem_id}-{instance_id}_{c_v}_run_{run}.pdf',bbox_inches='tight',pad_inches=0)\n",
    "        print(c_v, run)\n",
    "        plt.show()\n",
    "\n",
    "fig, ax = plt.subplots(subplot_kw={\"projection\": \"3d\"})\n",
    "for id, c_v in enumerate(scatter_df[color_column].unique()):\n",
    "    to_plot=scatter_df[scatter_df[color_column]==c_v]\n",
    "    \n",
    "    ax.scatter(to_plot['x0'], to_plot['x1'], to_plot['iteration'], color=colors[id], marker='x',zorder=500, alpha=0.5)\n",
    "plt.savefig(f'figures_clustering_new/scatterplot_bbob-{problem_id}-{instance_id}.pdf',bbox_inches='tight',pad_inches=0)\n",
    "plt.show()"
   ]
  },
  {
   "cell_type": "code",
   "execution_count": null,
   "id": "1f4e6af7-6afa-462d-a0b6-ece2d0de2a2e",
   "metadata": {},
   "outputs": [],
   "source": [
    "to_plot=d.query('algorithm==\"HI_WOA\" and run==0')\n",
    "to_plot['color']=to_plot['algorithm'].apply(lambda x: 'b.' if x==\"HI_WOA\" else 'red')\n",
    "x=MyFitnessLandscape(p, angle=(0, 0), _type=\"surface\", scatter_x=to_plot['x0'],scatter_y=to_plot['x1'],scatter_z=to_plot['raw_y'], scatter_color=list(to_plot['color'].values) )\n",
    "#sns.scatterplot(d.query('run==0 and iteration==0 and algorithm in [\"LevyTWO\",\"OriginalHC\"]'), x='x0', y='x1', hue=\"algorithm\",  palette='mako')\n",
    "x.show()"
   ]
  },
  {
   "cell_type": "code",
   "execution_count": null,
   "id": "bb0ecbd4-06c1-47bb-9fb5-5d39e4b43107",
   "metadata": {},
   "outputs": [],
   "source": [
    "to_plot=d.query('algorithm==\"OriginalWOA\" and run==0')\n",
    "x=MyFitnessLandscape(p, angle=(0, 0), _type=\"surface\", scatter_x=to_plot['x0'],scatter_y=to_plot['x1'],scatter_z=to_plot['raw_y'] )\n",
    "#sns.scatterplot(d.query('run==0 and iteration==0 and algorithm in [\"LevyTWO\",\"OriginalHC\"]'), x='x0', y='x1', hue=\"algorithm\",  palette='mako')\n",
    "x.show()"
   ]
  },
  {
   "cell_type": "code",
   "execution_count": null,
   "id": "0e6e0e08-2b6e-498c-9c4b-3d3bf68f3719",
   "metadata": {},
   "outputs": [],
   "source": [
    "all_results=pd.concat(all_results)"
   ]
  },
  {
   "cell_type": "code",
   "execution_count": null,
   "id": "c7e43be1-a6be-4900-8bd2-06e5d8175f89",
   "metadata": {},
   "outputs": [],
   "source": [
    "all_results.groupby(['algorithm1','algorithm2'])['p_value'].median().sort_values(ascending=False).tail(50)"
   ]
  },
  {
   "cell_type": "code",
   "execution_count": null,
   "id": "a54b2935-e96f-40d7-b545-354a26146aeb",
   "metadata": {},
   "outputs": [],
   "source": [
    "d=pd.read_csv('../data/processed/dim_2/F14_I1_2D.csv',compression='zip',index_col=0)"
   ]
  },
  {
   "cell_type": "code",
   "execution_count": null,
   "id": "85231bd0-ad48-473b-adc9-3af4a7732a56",
   "metadata": {},
   "outputs": [],
   "source": [
    "for i in range(0,19):\n",
    "    plt.figure()\n",
    "    sns.scatterplot(d.query('run==0 and iteration==@i and algorithm in [\"LevyTWO\",\"OriginalHC\"]'), x='x0', y='x1', hue=\"algorithm\",  palette='mako')\n",
    "    plt.show()"
   ]
  },
  {
   "cell_type": "code",
   "execution_count": null,
   "id": "34cb0485-a06b-4229-acd1-ead35a4cd68f",
   "metadata": {},
   "outputs": [],
   "source": [
    "for x in [f'x{i}' for i in range(0,dim)] + ['raw_y']:\n",
    "    plt.figure()\n",
    "    tt=d.query('algorithm in [\"SHADE\",\"L_SHADE\"] and run==0').groupby(['algorithm','iteration'])[x].min().to_frame()\n",
    "    sns.lineplot(tt,x='iteration',y=x,hue='algorithm')\n",
    "    plt.show()"
   ]
  },
  {
   "cell_type": "code",
   "execution_count": null,
   "id": "dffd88c7-bdaa-45e0-a808-ef525b018460",
   "metadata": {},
   "outputs": [],
   "source": []
  }
 ],
 "metadata": {
  "kernelspec": {
   "display_name": "Base",
   "language": "python",
   "name": "base"
  },
  "language_info": {
   "codemirror_mode": {
    "name": "ipython",
    "version": 3
   },
   "file_extension": ".py",
   "mimetype": "text/x-python",
   "name": "python",
   "nbconvert_exporter": "python",
   "pygments_lexer": "ipython3",
   "version": "3.9.21"
  }
 },
 "nbformat": 4,
 "nbformat_minor": 5
}
